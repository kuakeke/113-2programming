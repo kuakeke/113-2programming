{
  "nbformat": 4,
  "nbformat_minor": 0,
  "metadata": {
    "colab": {
      "provenance": [],
      "include_colab_link": true
    },
    "kernelspec": {
      "name": "python3",
      "display_name": "Python 3"
    },
    "language_info": {
      "name": "python"
    },
    "widgets": {
      "application/vnd.jupyter.widget-state+json": {
        "85304b6bb2ab4d668c04b252aad7f333": {
          "model_module": "@jupyter-widgets/controls",
          "model_name": "HBoxModel",
          "model_module_version": "1.5.0",
          "state": {
            "_dom_classes": [],
            "_model_module": "@jupyter-widgets/controls",
            "_model_module_version": "1.5.0",
            "_model_name": "HBoxModel",
            "_view_count": null,
            "_view_module": "@jupyter-widgets/controls",
            "_view_module_version": "1.5.0",
            "_view_name": "HBoxView",
            "box_style": "",
            "children": [
              "IPY_MODEL_3baf9060b55b4806b3430d88283a3bc8",
              "IPY_MODEL_9f2ad262b54b48b180a59241ceb46e73",
              "IPY_MODEL_e94e650c2e9141988e1b4f0a3b5c23c7"
            ],
            "layout": "IPY_MODEL_4e142e7deae344bdbcf43e52d4a9b404"
          }
        },
        "3baf9060b55b4806b3430d88283a3bc8": {
          "model_module": "@jupyter-widgets/controls",
          "model_name": "HTMLModel",
          "model_module_version": "1.5.0",
          "state": {
            "_dom_classes": [],
            "_model_module": "@jupyter-widgets/controls",
            "_model_module_version": "1.5.0",
            "_model_name": "HTMLModel",
            "_view_count": null,
            "_view_module": "@jupyter-widgets/controls",
            "_view_module_version": "1.5.0",
            "_view_name": "HTMLView",
            "description": "",
            "description_tooltip": null,
            "layout": "IPY_MODEL_d56b1c5b0f0f4505975ba689252ffa84",
            "placeholder": "​",
            "style": "IPY_MODEL_d56dbf74b78441a38010b49902d66ee4",
            "value": "Downloading https://raw.githubusercontent.com/stanfordnlp/stanza-resources/main/resources_1.10.0.json: "
          }
        },
        "9f2ad262b54b48b180a59241ceb46e73": {
          "model_module": "@jupyter-widgets/controls",
          "model_name": "FloatProgressModel",
          "model_module_version": "1.5.0",
          "state": {
            "_dom_classes": [],
            "_model_module": "@jupyter-widgets/controls",
            "_model_module_version": "1.5.0",
            "_model_name": "FloatProgressModel",
            "_view_count": null,
            "_view_module": "@jupyter-widgets/controls",
            "_view_module_version": "1.5.0",
            "_view_name": "ProgressView",
            "bar_style": "success",
            "description": "",
            "description_tooltip": null,
            "layout": "IPY_MODEL_e1d547fc8f72458fa2cc40df0b27175b",
            "max": 52741,
            "min": 0,
            "orientation": "horizontal",
            "style": "IPY_MODEL_c2e3a707133f472182bcf14ca59b4462",
            "value": 52741
          }
        },
        "e94e650c2e9141988e1b4f0a3b5c23c7": {
          "model_module": "@jupyter-widgets/controls",
          "model_name": "HTMLModel",
          "model_module_version": "1.5.0",
          "state": {
            "_dom_classes": [],
            "_model_module": "@jupyter-widgets/controls",
            "_model_module_version": "1.5.0",
            "_model_name": "HTMLModel",
            "_view_count": null,
            "_view_module": "@jupyter-widgets/controls",
            "_view_module_version": "1.5.0",
            "_view_name": "HTMLView",
            "description": "",
            "description_tooltip": null,
            "layout": "IPY_MODEL_b5b997c6581448d592643dde7af93aec",
            "placeholder": "​",
            "style": "IPY_MODEL_53da0c6feeaf434b9d29dc7b1d1cface",
            "value": " 426k/? [00:00&lt;00:00, 7.88MB/s]"
          }
        },
        "4e142e7deae344bdbcf43e52d4a9b404": {
          "model_module": "@jupyter-widgets/base",
          "model_name": "LayoutModel",
          "model_module_version": "1.2.0",
          "state": {
            "_model_module": "@jupyter-widgets/base",
            "_model_module_version": "1.2.0",
            "_model_name": "LayoutModel",
            "_view_count": null,
            "_view_module": "@jupyter-widgets/base",
            "_view_module_version": "1.2.0",
            "_view_name": "LayoutView",
            "align_content": null,
            "align_items": null,
            "align_self": null,
            "border": null,
            "bottom": null,
            "display": null,
            "flex": null,
            "flex_flow": null,
            "grid_area": null,
            "grid_auto_columns": null,
            "grid_auto_flow": null,
            "grid_auto_rows": null,
            "grid_column": null,
            "grid_gap": null,
            "grid_row": null,
            "grid_template_areas": null,
            "grid_template_columns": null,
            "grid_template_rows": null,
            "height": null,
            "justify_content": null,
            "justify_items": null,
            "left": null,
            "margin": null,
            "max_height": null,
            "max_width": null,
            "min_height": null,
            "min_width": null,
            "object_fit": null,
            "object_position": null,
            "order": null,
            "overflow": null,
            "overflow_x": null,
            "overflow_y": null,
            "padding": null,
            "right": null,
            "top": null,
            "visibility": null,
            "width": null
          }
        },
        "d56b1c5b0f0f4505975ba689252ffa84": {
          "model_module": "@jupyter-widgets/base",
          "model_name": "LayoutModel",
          "model_module_version": "1.2.0",
          "state": {
            "_model_module": "@jupyter-widgets/base",
            "_model_module_version": "1.2.0",
            "_model_name": "LayoutModel",
            "_view_count": null,
            "_view_module": "@jupyter-widgets/base",
            "_view_module_version": "1.2.0",
            "_view_name": "LayoutView",
            "align_content": null,
            "align_items": null,
            "align_self": null,
            "border": null,
            "bottom": null,
            "display": null,
            "flex": null,
            "flex_flow": null,
            "grid_area": null,
            "grid_auto_columns": null,
            "grid_auto_flow": null,
            "grid_auto_rows": null,
            "grid_column": null,
            "grid_gap": null,
            "grid_row": null,
            "grid_template_areas": null,
            "grid_template_columns": null,
            "grid_template_rows": null,
            "height": null,
            "justify_content": null,
            "justify_items": null,
            "left": null,
            "margin": null,
            "max_height": null,
            "max_width": null,
            "min_height": null,
            "min_width": null,
            "object_fit": null,
            "object_position": null,
            "order": null,
            "overflow": null,
            "overflow_x": null,
            "overflow_y": null,
            "padding": null,
            "right": null,
            "top": null,
            "visibility": null,
            "width": null
          }
        },
        "d56dbf74b78441a38010b49902d66ee4": {
          "model_module": "@jupyter-widgets/controls",
          "model_name": "DescriptionStyleModel",
          "model_module_version": "1.5.0",
          "state": {
            "_model_module": "@jupyter-widgets/controls",
            "_model_module_version": "1.5.0",
            "_model_name": "DescriptionStyleModel",
            "_view_count": null,
            "_view_module": "@jupyter-widgets/base",
            "_view_module_version": "1.2.0",
            "_view_name": "StyleView",
            "description_width": ""
          }
        },
        "e1d547fc8f72458fa2cc40df0b27175b": {
          "model_module": "@jupyter-widgets/base",
          "model_name": "LayoutModel",
          "model_module_version": "1.2.0",
          "state": {
            "_model_module": "@jupyter-widgets/base",
            "_model_module_version": "1.2.0",
            "_model_name": "LayoutModel",
            "_view_count": null,
            "_view_module": "@jupyter-widgets/base",
            "_view_module_version": "1.2.0",
            "_view_name": "LayoutView",
            "align_content": null,
            "align_items": null,
            "align_self": null,
            "border": null,
            "bottom": null,
            "display": null,
            "flex": null,
            "flex_flow": null,
            "grid_area": null,
            "grid_auto_columns": null,
            "grid_auto_flow": null,
            "grid_auto_rows": null,
            "grid_column": null,
            "grid_gap": null,
            "grid_row": null,
            "grid_template_areas": null,
            "grid_template_columns": null,
            "grid_template_rows": null,
            "height": null,
            "justify_content": null,
            "justify_items": null,
            "left": null,
            "margin": null,
            "max_height": null,
            "max_width": null,
            "min_height": null,
            "min_width": null,
            "object_fit": null,
            "object_position": null,
            "order": null,
            "overflow": null,
            "overflow_x": null,
            "overflow_y": null,
            "padding": null,
            "right": null,
            "top": null,
            "visibility": null,
            "width": null
          }
        },
        "c2e3a707133f472182bcf14ca59b4462": {
          "model_module": "@jupyter-widgets/controls",
          "model_name": "ProgressStyleModel",
          "model_module_version": "1.5.0",
          "state": {
            "_model_module": "@jupyter-widgets/controls",
            "_model_module_version": "1.5.0",
            "_model_name": "ProgressStyleModel",
            "_view_count": null,
            "_view_module": "@jupyter-widgets/base",
            "_view_module_version": "1.2.0",
            "_view_name": "StyleView",
            "bar_color": null,
            "description_width": ""
          }
        },
        "b5b997c6581448d592643dde7af93aec": {
          "model_module": "@jupyter-widgets/base",
          "model_name": "LayoutModel",
          "model_module_version": "1.2.0",
          "state": {
            "_model_module": "@jupyter-widgets/base",
            "_model_module_version": "1.2.0",
            "_model_name": "LayoutModel",
            "_view_count": null,
            "_view_module": "@jupyter-widgets/base",
            "_view_module_version": "1.2.0",
            "_view_name": "LayoutView",
            "align_content": null,
            "align_items": null,
            "align_self": null,
            "border": null,
            "bottom": null,
            "display": null,
            "flex": null,
            "flex_flow": null,
            "grid_area": null,
            "grid_auto_columns": null,
            "grid_auto_flow": null,
            "grid_auto_rows": null,
            "grid_column": null,
            "grid_gap": null,
            "grid_row": null,
            "grid_template_areas": null,
            "grid_template_columns": null,
            "grid_template_rows": null,
            "height": null,
            "justify_content": null,
            "justify_items": null,
            "left": null,
            "margin": null,
            "max_height": null,
            "max_width": null,
            "min_height": null,
            "min_width": null,
            "object_fit": null,
            "object_position": null,
            "order": null,
            "overflow": null,
            "overflow_x": null,
            "overflow_y": null,
            "padding": null,
            "right": null,
            "top": null,
            "visibility": null,
            "width": null
          }
        },
        "53da0c6feeaf434b9d29dc7b1d1cface": {
          "model_module": "@jupyter-widgets/controls",
          "model_name": "DescriptionStyleModel",
          "model_module_version": "1.5.0",
          "state": {
            "_model_module": "@jupyter-widgets/controls",
            "_model_module_version": "1.5.0",
            "_model_name": "DescriptionStyleModel",
            "_view_count": null,
            "_view_module": "@jupyter-widgets/base",
            "_view_module_version": "1.2.0",
            "_view_name": "StyleView",
            "description_width": ""
          }
        },
        "57273601f5c24a04b48c99c0cb2f663f": {
          "model_module": "@jupyter-widgets/controls",
          "model_name": "HBoxModel",
          "model_module_version": "1.5.0",
          "state": {
            "_dom_classes": [],
            "_model_module": "@jupyter-widgets/controls",
            "_model_module_version": "1.5.0",
            "_model_name": "HBoxModel",
            "_view_count": null,
            "_view_module": "@jupyter-widgets/controls",
            "_view_module_version": "1.5.0",
            "_view_name": "HBoxView",
            "box_style": "",
            "children": [
              "IPY_MODEL_4ef30dcb8cd04d119adbf0e41379bf1c",
              "IPY_MODEL_69941783b9334dd287025ff7694c0904",
              "IPY_MODEL_9f6665446b044640badbc8f457b072ef"
            ],
            "layout": "IPY_MODEL_79d3edb76069437dbc9e22fdc7492fea"
          }
        },
        "4ef30dcb8cd04d119adbf0e41379bf1c": {
          "model_module": "@jupyter-widgets/controls",
          "model_name": "HTMLModel",
          "model_module_version": "1.5.0",
          "state": {
            "_dom_classes": [],
            "_model_module": "@jupyter-widgets/controls",
            "_model_module_version": "1.5.0",
            "_model_name": "HTMLModel",
            "_view_count": null,
            "_view_module": "@jupyter-widgets/controls",
            "_view_module_version": "1.5.0",
            "_view_name": "HTMLView",
            "description": "",
            "description_tooltip": null,
            "layout": "IPY_MODEL_4c40654a963f432f87429f1295e8ff22",
            "placeholder": "​",
            "style": "IPY_MODEL_c7af62b8cf1c49fca044c26bdb597a91",
            "value": "Downloading https://huggingface.co/stanfordnlp/stanza-zh-hans/resolve/v1.10.0/models/default.zip: 100%"
          }
        },
        "69941783b9334dd287025ff7694c0904": {
          "model_module": "@jupyter-widgets/controls",
          "model_name": "FloatProgressModel",
          "model_module_version": "1.5.0",
          "state": {
            "_dom_classes": [],
            "_model_module": "@jupyter-widgets/controls",
            "_model_module_version": "1.5.0",
            "_model_name": "FloatProgressModel",
            "_view_count": null,
            "_view_module": "@jupyter-widgets/controls",
            "_view_module_version": "1.5.0",
            "_view_name": "ProgressView",
            "bar_style": "success",
            "description": "",
            "description_tooltip": null,
            "layout": "IPY_MODEL_69c5694759594f238a373d570932f8c8",
            "max": 749452400,
            "min": 0,
            "orientation": "horizontal",
            "style": "IPY_MODEL_f1df570cc9dd4266bc09a47736442ab7",
            "value": 749452400
          }
        },
        "9f6665446b044640badbc8f457b072ef": {
          "model_module": "@jupyter-widgets/controls",
          "model_name": "HTMLModel",
          "model_module_version": "1.5.0",
          "state": {
            "_dom_classes": [],
            "_model_module": "@jupyter-widgets/controls",
            "_model_module_version": "1.5.0",
            "_model_name": "HTMLModel",
            "_view_count": null,
            "_view_module": "@jupyter-widgets/controls",
            "_view_module_version": "1.5.0",
            "_view_name": "HTMLView",
            "description": "",
            "description_tooltip": null,
            "layout": "IPY_MODEL_d1c0c0ef1d564b1cbd33efbf32353e08",
            "placeholder": "​",
            "style": "IPY_MODEL_09a1beabd33943558514d855e5b9f047",
            "value": " 749M/749M [00:05&lt;00:00, 242MB/s]"
          }
        },
        "79d3edb76069437dbc9e22fdc7492fea": {
          "model_module": "@jupyter-widgets/base",
          "model_name": "LayoutModel",
          "model_module_version": "1.2.0",
          "state": {
            "_model_module": "@jupyter-widgets/base",
            "_model_module_version": "1.2.0",
            "_model_name": "LayoutModel",
            "_view_count": null,
            "_view_module": "@jupyter-widgets/base",
            "_view_module_version": "1.2.0",
            "_view_name": "LayoutView",
            "align_content": null,
            "align_items": null,
            "align_self": null,
            "border": null,
            "bottom": null,
            "display": null,
            "flex": null,
            "flex_flow": null,
            "grid_area": null,
            "grid_auto_columns": null,
            "grid_auto_flow": null,
            "grid_auto_rows": null,
            "grid_column": null,
            "grid_gap": null,
            "grid_row": null,
            "grid_template_areas": null,
            "grid_template_columns": null,
            "grid_template_rows": null,
            "height": null,
            "justify_content": null,
            "justify_items": null,
            "left": null,
            "margin": null,
            "max_height": null,
            "max_width": null,
            "min_height": null,
            "min_width": null,
            "object_fit": null,
            "object_position": null,
            "order": null,
            "overflow": null,
            "overflow_x": null,
            "overflow_y": null,
            "padding": null,
            "right": null,
            "top": null,
            "visibility": null,
            "width": null
          }
        },
        "4c40654a963f432f87429f1295e8ff22": {
          "model_module": "@jupyter-widgets/base",
          "model_name": "LayoutModel",
          "model_module_version": "1.2.0",
          "state": {
            "_model_module": "@jupyter-widgets/base",
            "_model_module_version": "1.2.0",
            "_model_name": "LayoutModel",
            "_view_count": null,
            "_view_module": "@jupyter-widgets/base",
            "_view_module_version": "1.2.0",
            "_view_name": "LayoutView",
            "align_content": null,
            "align_items": null,
            "align_self": null,
            "border": null,
            "bottom": null,
            "display": null,
            "flex": null,
            "flex_flow": null,
            "grid_area": null,
            "grid_auto_columns": null,
            "grid_auto_flow": null,
            "grid_auto_rows": null,
            "grid_column": null,
            "grid_gap": null,
            "grid_row": null,
            "grid_template_areas": null,
            "grid_template_columns": null,
            "grid_template_rows": null,
            "height": null,
            "justify_content": null,
            "justify_items": null,
            "left": null,
            "margin": null,
            "max_height": null,
            "max_width": null,
            "min_height": null,
            "min_width": null,
            "object_fit": null,
            "object_position": null,
            "order": null,
            "overflow": null,
            "overflow_x": null,
            "overflow_y": null,
            "padding": null,
            "right": null,
            "top": null,
            "visibility": null,
            "width": null
          }
        },
        "c7af62b8cf1c49fca044c26bdb597a91": {
          "model_module": "@jupyter-widgets/controls",
          "model_name": "DescriptionStyleModel",
          "model_module_version": "1.5.0",
          "state": {
            "_model_module": "@jupyter-widgets/controls",
            "_model_module_version": "1.5.0",
            "_model_name": "DescriptionStyleModel",
            "_view_count": null,
            "_view_module": "@jupyter-widgets/base",
            "_view_module_version": "1.2.0",
            "_view_name": "StyleView",
            "description_width": ""
          }
        },
        "69c5694759594f238a373d570932f8c8": {
          "model_module": "@jupyter-widgets/base",
          "model_name": "LayoutModel",
          "model_module_version": "1.2.0",
          "state": {
            "_model_module": "@jupyter-widgets/base",
            "_model_module_version": "1.2.0",
            "_model_name": "LayoutModel",
            "_view_count": null,
            "_view_module": "@jupyter-widgets/base",
            "_view_module_version": "1.2.0",
            "_view_name": "LayoutView",
            "align_content": null,
            "align_items": null,
            "align_self": null,
            "border": null,
            "bottom": null,
            "display": null,
            "flex": null,
            "flex_flow": null,
            "grid_area": null,
            "grid_auto_columns": null,
            "grid_auto_flow": null,
            "grid_auto_rows": null,
            "grid_column": null,
            "grid_gap": null,
            "grid_row": null,
            "grid_template_areas": null,
            "grid_template_columns": null,
            "grid_template_rows": null,
            "height": null,
            "justify_content": null,
            "justify_items": null,
            "left": null,
            "margin": null,
            "max_height": null,
            "max_width": null,
            "min_height": null,
            "min_width": null,
            "object_fit": null,
            "object_position": null,
            "order": null,
            "overflow": null,
            "overflow_x": null,
            "overflow_y": null,
            "padding": null,
            "right": null,
            "top": null,
            "visibility": null,
            "width": null
          }
        },
        "f1df570cc9dd4266bc09a47736442ab7": {
          "model_module": "@jupyter-widgets/controls",
          "model_name": "ProgressStyleModel",
          "model_module_version": "1.5.0",
          "state": {
            "_model_module": "@jupyter-widgets/controls",
            "_model_module_version": "1.5.0",
            "_model_name": "ProgressStyleModel",
            "_view_count": null,
            "_view_module": "@jupyter-widgets/base",
            "_view_module_version": "1.2.0",
            "_view_name": "StyleView",
            "bar_color": null,
            "description_width": ""
          }
        },
        "d1c0c0ef1d564b1cbd33efbf32353e08": {
          "model_module": "@jupyter-widgets/base",
          "model_name": "LayoutModel",
          "model_module_version": "1.2.0",
          "state": {
            "_model_module": "@jupyter-widgets/base",
            "_model_module_version": "1.2.0",
            "_model_name": "LayoutModel",
            "_view_count": null,
            "_view_module": "@jupyter-widgets/base",
            "_view_module_version": "1.2.0",
            "_view_name": "LayoutView",
            "align_content": null,
            "align_items": null,
            "align_self": null,
            "border": null,
            "bottom": null,
            "display": null,
            "flex": null,
            "flex_flow": null,
            "grid_area": null,
            "grid_auto_columns": null,
            "grid_auto_flow": null,
            "grid_auto_rows": null,
            "grid_column": null,
            "grid_gap": null,
            "grid_row": null,
            "grid_template_areas": null,
            "grid_template_columns": null,
            "grid_template_rows": null,
            "height": null,
            "justify_content": null,
            "justify_items": null,
            "left": null,
            "margin": null,
            "max_height": null,
            "max_width": null,
            "min_height": null,
            "min_width": null,
            "object_fit": null,
            "object_position": null,
            "order": null,
            "overflow": null,
            "overflow_x": null,
            "overflow_y": null,
            "padding": null,
            "right": null,
            "top": null,
            "visibility": null,
            "width": null
          }
        },
        "09a1beabd33943558514d855e5b9f047": {
          "model_module": "@jupyter-widgets/controls",
          "model_name": "DescriptionStyleModel",
          "model_module_version": "1.5.0",
          "state": {
            "_model_module": "@jupyter-widgets/controls",
            "_model_module_version": "1.5.0",
            "_model_name": "DescriptionStyleModel",
            "_view_count": null,
            "_view_module": "@jupyter-widgets/base",
            "_view_module_version": "1.2.0",
            "_view_name": "StyleView",
            "description_width": ""
          }
        },
        "886dd043e16c499aa4fca7953eab0f3c": {
          "model_module": "@jupyter-widgets/controls",
          "model_name": "HBoxModel",
          "model_module_version": "1.5.0",
          "state": {
            "_dom_classes": [],
            "_model_module": "@jupyter-widgets/controls",
            "_model_module_version": "1.5.0",
            "_model_name": "HBoxModel",
            "_view_count": null,
            "_view_module": "@jupyter-widgets/controls",
            "_view_module_version": "1.5.0",
            "_view_name": "HBoxView",
            "box_style": "",
            "children": [
              "IPY_MODEL_fb079592f1954b9c953df45b704d6ee6",
              "IPY_MODEL_b28cea9794614e8c973034abf7c0563a",
              "IPY_MODEL_bf3a629f35a1439a8645c65dad276635"
            ],
            "layout": "IPY_MODEL_74b0daf3f61e4f7cb77504598774a14a"
          }
        },
        "fb079592f1954b9c953df45b704d6ee6": {
          "model_module": "@jupyter-widgets/controls",
          "model_name": "HTMLModel",
          "model_module_version": "1.5.0",
          "state": {
            "_dom_classes": [],
            "_model_module": "@jupyter-widgets/controls",
            "_model_module_version": "1.5.0",
            "_model_name": "HTMLModel",
            "_view_count": null,
            "_view_module": "@jupyter-widgets/controls",
            "_view_module_version": "1.5.0",
            "_view_name": "HTMLView",
            "description": "",
            "description_tooltip": null,
            "layout": "IPY_MODEL_d5ea58b0283849a28ac2fc662b439279",
            "placeholder": "​",
            "style": "IPY_MODEL_0eb224fb870341aaa782eddac57d5845",
            "value": "Downloading https://raw.githubusercontent.com/stanfordnlp/stanza-resources/main/resources_1.10.0.json: "
          }
        },
        "b28cea9794614e8c973034abf7c0563a": {
          "model_module": "@jupyter-widgets/controls",
          "model_name": "FloatProgressModel",
          "model_module_version": "1.5.0",
          "state": {
            "_dom_classes": [],
            "_model_module": "@jupyter-widgets/controls",
            "_model_module_version": "1.5.0",
            "_model_name": "FloatProgressModel",
            "_view_count": null,
            "_view_module": "@jupyter-widgets/controls",
            "_view_module_version": "1.5.0",
            "_view_name": "ProgressView",
            "bar_style": "success",
            "description": "",
            "description_tooltip": null,
            "layout": "IPY_MODEL_86787d91f0a242338790fd0a2c369fdf",
            "max": 52741,
            "min": 0,
            "orientation": "horizontal",
            "style": "IPY_MODEL_2cf65a77405d4b1dbd67b1c50f36ec4d",
            "value": 52741
          }
        },
        "bf3a629f35a1439a8645c65dad276635": {
          "model_module": "@jupyter-widgets/controls",
          "model_name": "HTMLModel",
          "model_module_version": "1.5.0",
          "state": {
            "_dom_classes": [],
            "_model_module": "@jupyter-widgets/controls",
            "_model_module_version": "1.5.0",
            "_model_name": "HTMLModel",
            "_view_count": null,
            "_view_module": "@jupyter-widgets/controls",
            "_view_module_version": "1.5.0",
            "_view_name": "HTMLView",
            "description": "",
            "description_tooltip": null,
            "layout": "IPY_MODEL_037546a1fbd6463f865d3df53afdd7ad",
            "placeholder": "​",
            "style": "IPY_MODEL_b07dc59321f74bc298f651a1d4cf80d7",
            "value": " 426k/? [00:00&lt;00:00, 17.4MB/s]"
          }
        },
        "74b0daf3f61e4f7cb77504598774a14a": {
          "model_module": "@jupyter-widgets/base",
          "model_name": "LayoutModel",
          "model_module_version": "1.2.0",
          "state": {
            "_model_module": "@jupyter-widgets/base",
            "_model_module_version": "1.2.0",
            "_model_name": "LayoutModel",
            "_view_count": null,
            "_view_module": "@jupyter-widgets/base",
            "_view_module_version": "1.2.0",
            "_view_name": "LayoutView",
            "align_content": null,
            "align_items": null,
            "align_self": null,
            "border": null,
            "bottom": null,
            "display": null,
            "flex": null,
            "flex_flow": null,
            "grid_area": null,
            "grid_auto_columns": null,
            "grid_auto_flow": null,
            "grid_auto_rows": null,
            "grid_column": null,
            "grid_gap": null,
            "grid_row": null,
            "grid_template_areas": null,
            "grid_template_columns": null,
            "grid_template_rows": null,
            "height": null,
            "justify_content": null,
            "justify_items": null,
            "left": null,
            "margin": null,
            "max_height": null,
            "max_width": null,
            "min_height": null,
            "min_width": null,
            "object_fit": null,
            "object_position": null,
            "order": null,
            "overflow": null,
            "overflow_x": null,
            "overflow_y": null,
            "padding": null,
            "right": null,
            "top": null,
            "visibility": null,
            "width": null
          }
        },
        "d5ea58b0283849a28ac2fc662b439279": {
          "model_module": "@jupyter-widgets/base",
          "model_name": "LayoutModel",
          "model_module_version": "1.2.0",
          "state": {
            "_model_module": "@jupyter-widgets/base",
            "_model_module_version": "1.2.0",
            "_model_name": "LayoutModel",
            "_view_count": null,
            "_view_module": "@jupyter-widgets/base",
            "_view_module_version": "1.2.0",
            "_view_name": "LayoutView",
            "align_content": null,
            "align_items": null,
            "align_self": null,
            "border": null,
            "bottom": null,
            "display": null,
            "flex": null,
            "flex_flow": null,
            "grid_area": null,
            "grid_auto_columns": null,
            "grid_auto_flow": null,
            "grid_auto_rows": null,
            "grid_column": null,
            "grid_gap": null,
            "grid_row": null,
            "grid_template_areas": null,
            "grid_template_columns": null,
            "grid_template_rows": null,
            "height": null,
            "justify_content": null,
            "justify_items": null,
            "left": null,
            "margin": null,
            "max_height": null,
            "max_width": null,
            "min_height": null,
            "min_width": null,
            "object_fit": null,
            "object_position": null,
            "order": null,
            "overflow": null,
            "overflow_x": null,
            "overflow_y": null,
            "padding": null,
            "right": null,
            "top": null,
            "visibility": null,
            "width": null
          }
        },
        "0eb224fb870341aaa782eddac57d5845": {
          "model_module": "@jupyter-widgets/controls",
          "model_name": "DescriptionStyleModel",
          "model_module_version": "1.5.0",
          "state": {
            "_model_module": "@jupyter-widgets/controls",
            "_model_module_version": "1.5.0",
            "_model_name": "DescriptionStyleModel",
            "_view_count": null,
            "_view_module": "@jupyter-widgets/base",
            "_view_module_version": "1.2.0",
            "_view_name": "StyleView",
            "description_width": ""
          }
        },
        "86787d91f0a242338790fd0a2c369fdf": {
          "model_module": "@jupyter-widgets/base",
          "model_name": "LayoutModel",
          "model_module_version": "1.2.0",
          "state": {
            "_model_module": "@jupyter-widgets/base",
            "_model_module_version": "1.2.0",
            "_model_name": "LayoutModel",
            "_view_count": null,
            "_view_module": "@jupyter-widgets/base",
            "_view_module_version": "1.2.0",
            "_view_name": "LayoutView",
            "align_content": null,
            "align_items": null,
            "align_self": null,
            "border": null,
            "bottom": null,
            "display": null,
            "flex": null,
            "flex_flow": null,
            "grid_area": null,
            "grid_auto_columns": null,
            "grid_auto_flow": null,
            "grid_auto_rows": null,
            "grid_column": null,
            "grid_gap": null,
            "grid_row": null,
            "grid_template_areas": null,
            "grid_template_columns": null,
            "grid_template_rows": null,
            "height": null,
            "justify_content": null,
            "justify_items": null,
            "left": null,
            "margin": null,
            "max_height": null,
            "max_width": null,
            "min_height": null,
            "min_width": null,
            "object_fit": null,
            "object_position": null,
            "order": null,
            "overflow": null,
            "overflow_x": null,
            "overflow_y": null,
            "padding": null,
            "right": null,
            "top": null,
            "visibility": null,
            "width": null
          }
        },
        "2cf65a77405d4b1dbd67b1c50f36ec4d": {
          "model_module": "@jupyter-widgets/controls",
          "model_name": "ProgressStyleModel",
          "model_module_version": "1.5.0",
          "state": {
            "_model_module": "@jupyter-widgets/controls",
            "_model_module_version": "1.5.0",
            "_model_name": "ProgressStyleModel",
            "_view_count": null,
            "_view_module": "@jupyter-widgets/base",
            "_view_module_version": "1.2.0",
            "_view_name": "StyleView",
            "bar_color": null,
            "description_width": ""
          }
        },
        "037546a1fbd6463f865d3df53afdd7ad": {
          "model_module": "@jupyter-widgets/base",
          "model_name": "LayoutModel",
          "model_module_version": "1.2.0",
          "state": {
            "_model_module": "@jupyter-widgets/base",
            "_model_module_version": "1.2.0",
            "_model_name": "LayoutModel",
            "_view_count": null,
            "_view_module": "@jupyter-widgets/base",
            "_view_module_version": "1.2.0",
            "_view_name": "LayoutView",
            "align_content": null,
            "align_items": null,
            "align_self": null,
            "border": null,
            "bottom": null,
            "display": null,
            "flex": null,
            "flex_flow": null,
            "grid_area": null,
            "grid_auto_columns": null,
            "grid_auto_flow": null,
            "grid_auto_rows": null,
            "grid_column": null,
            "grid_gap": null,
            "grid_row": null,
            "grid_template_areas": null,
            "grid_template_columns": null,
            "grid_template_rows": null,
            "height": null,
            "justify_content": null,
            "justify_items": null,
            "left": null,
            "margin": null,
            "max_height": null,
            "max_width": null,
            "min_height": null,
            "min_width": null,
            "object_fit": null,
            "object_position": null,
            "order": null,
            "overflow": null,
            "overflow_x": null,
            "overflow_y": null,
            "padding": null,
            "right": null,
            "top": null,
            "visibility": null,
            "width": null
          }
        },
        "b07dc59321f74bc298f651a1d4cf80d7": {
          "model_module": "@jupyter-widgets/controls",
          "model_name": "DescriptionStyleModel",
          "model_module_version": "1.5.0",
          "state": {
            "_model_module": "@jupyter-widgets/controls",
            "_model_module_version": "1.5.0",
            "_model_name": "DescriptionStyleModel",
            "_view_count": null,
            "_view_module": "@jupyter-widgets/base",
            "_view_module_version": "1.2.0",
            "_view_name": "StyleView",
            "description_width": ""
          }
        }
      }
    }
  },
  "cells": [
    {
      "cell_type": "markdown",
      "metadata": {
        "id": "view-in-github",
        "colab_type": "text"
      },
      "source": [
        "<a href=\"https://colab.research.google.com/github/kuakeke/113-2programming/blob/main/2025%E5%B9%B45%E6%9C%881%E6%97%A5%20%E7%A8%8B%E5%BC%8F%E8%AA%9E%E8%A8%80%20%E4%BD%9C%E6%A5%AD%E4%BA%94%20%E5%91%BD%E5%90%8D%E5%AF%A6%E9%AB%94%E8%AD%98%E5%88%A5.ipynb\" target=\"_parent\"><img src=\"https://colab.research.google.com/assets/colab-badge.svg\" alt=\"Open In Colab\"/></a>"
      ]
    },
    {
      "cell_type": "markdown",
      "source": [
        "柯昱葶 國文115級 41120122L\n",
        "程式語言 作業五 命名實體識別"
      ],
      "metadata": {
        "id": "spUBPzeTucpq"
      }
    },
    {
      "cell_type": "markdown",
      "source": [
        "# 作業目標\n",
        "透過命名實體識別（NER, Named Entity Recognition）中的斷字（Tokenization）練習，讓你能夠：\n",
        "\n",
        "* 自選感興趣的文本作為任務素材\n",
        "* 實際操作斷字與NER\n",
        "* 思考資料與模型應用的可能性與限制\n",
        "\n",
        "# 作業內容\n",
        "\n",
        "1. 資料替換:\n",
        " * 請自選一段你有興趣的中文文本（例如：食譜、小說片段、新聞、歌詞、社群貼文等），長度至少150字。\n",
        " * 將課堂提供的NER範例資料替換成你自己的文本。。\n",
        "\n",
        "2. 斷字與NER處理：\n",
        " * 使用你熟悉的工具（如 jieba、ckiptagger、stanza 等）進行中文斷詞與實體識別。\n",
        " * 清楚展示處理結果（如使用程式碼、表格或截圖方式呈現）。\n",
        "\n",
        "3. 說明與反思：\n",
        " * 說明你為什麼選擇這段資料、這段資料在斷字或NER上的挑戰、你從中學到了什麼等。\n",
        " * 可以額外探討這份資料在實務應用上的潛力，例如：「如果把它做成某個專案，它可能會…」\n",
        "\n",
        "# 評分標準（總分：100分）\n",
        "* 評分項目\t說明\t分數\n",
        " * 資料選擇與替換\t自選文本具代表性，主題明確、有意義\t20分\n",
        " * 斷字與NER成果\t有實際執行斷詞與NER，結果清晰呈現\t40分\n",
        " * 斷字分析圖表\t成果有製作相關圖表（如詞頻、NER分布等）\t30分\n",
        " * 說明與反思\t有說明選材原因與處理挑戰、反思具邏輯\t10分\n",
        " * 請正確提交\t成果應統一提交至 GitHub 並寫於 README.md 中，未收到作業不予計分\t必須遵守\n",
        "\n",
        "\n"
      ],
      "metadata": {
        "id": "YaI-w1uGumhx"
      }
    },
    {
      "cell_type": "markdown",
      "source": [
        "\n",
        "\n",
        "---\n",
        "\n"
      ],
      "metadata": {
        "id": "YVivZg-3u4sH"
      }
    },
    {
      "cell_type": "markdown",
      "source": [
        "**作業發想：我打算製作一個可以分析中文段落句子成分的工具，以方便想學習中文的外國人，或是教學中文的老師能使用，將段落進行詞性分析。**"
      ],
      "metadata": {
        "id": "g4BmpJHZLlGj"
      }
    },
    {
      "cell_type": "markdown",
      "source": [
        "教材小故事\n",
        "https://docs.google.com/spreadsheets/d/1vmGkbxa5JUCYOmuTQJ8LWhnFlVKby3TQl7bi2dmPuGo/edit?usp=sharing"
      ],
      "metadata": {
        "id": "gkcteHQH63pW"
      }
    },
    {
      "cell_type": "code",
      "source": [
        "from google.colab import auth\n",
        "auth.authenticate_user()\n",
        "\n",
        "import gspread\n",
        "from google.auth import default\n",
        "creds, _ = default()\n",
        "\n",
        "gc = gspread.authorize(creds)"
      ],
      "metadata": {
        "id": "67dpf5SpO9I7"
      },
      "execution_count": 1,
      "outputs": []
    },
    {
      "cell_type": "code",
      "source": [
        "import pandas as pd\n",
        "# read data and put it in a dataframe\n",
        "# 在 google 工作表載入 gsheets\n",
        "gsheets = gc.open_by_url('https://docs.google.com/spreadsheets/d/1vmGkbxa5JUCYOmuTQJ8LWhnFlVKby3TQl7bi2dmPuGo/edit?usp=sharing').sheet1"
      ],
      "metadata": {
        "id": "qHJCsRUUPASg"
      },
      "execution_count": 2,
      "outputs": []
    },
    {
      "cell_type": "code",
      "source": [
        "dicts = gc.open_by_url('https://docs.google.com/spreadsheets/d/1vmGkbxa5JUCYOmuTQJ8LWhnFlVKby3TQl7bi2dmPuGo/edit?usp=sharing').get_worksheet(0)\n",
        "dicts = dicts.get_all_records()\n",
        "dicts = pd.DataFrame(dicts)"
      ],
      "metadata": {
        "id": "OnLZAcuMgoCE"
      },
      "execution_count": 3,
      "outputs": []
    },
    {
      "cell_type": "code",
      "source": [
        "# 讀取所有數據\n",
        "rows = gsheets.get_all_records()\n",
        "import pandas as pd\n",
        "df = pd.DataFrame(rows)"
      ],
      "metadata": {
        "id": "TM6nCQ7HgqcW"
      },
      "execution_count": 4,
      "outputs": []
    },
    {
      "cell_type": "markdown",
      "source": [
        "**我用stanza進行中文斷詞與實體識別：**"
      ],
      "metadata": {
        "id": "DXJU3b1Fn4Ug"
      }
    },
    {
      "cell_type": "code",
      "source": [
        "!pip install stanza"
      ],
      "metadata": {
        "colab": {
          "base_uri": "https://localhost:8080/"
        },
        "id": "OE2coUZoSZxA",
        "outputId": "99f149f5-0d9c-42e1-8e3b-7ef15c9b9dc8"
      },
      "execution_count": 5,
      "outputs": [
        {
          "output_type": "stream",
          "name": "stdout",
          "text": [
            "Collecting stanza\n",
            "  Downloading stanza-1.10.1-py3-none-any.whl.metadata (13 kB)\n",
            "Collecting emoji (from stanza)\n",
            "  Downloading emoji-2.14.1-py3-none-any.whl.metadata (5.7 kB)\n",
            "Requirement already satisfied: numpy in /usr/local/lib/python3.11/dist-packages (from stanza) (2.0.2)\n",
            "Requirement already satisfied: protobuf>=3.15.0 in /usr/local/lib/python3.11/dist-packages (from stanza) (5.29.4)\n",
            "Requirement already satisfied: requests in /usr/local/lib/python3.11/dist-packages (from stanza) (2.32.3)\n",
            "Requirement already satisfied: networkx in /usr/local/lib/python3.11/dist-packages (from stanza) (3.4.2)\n",
            "Requirement already satisfied: torch>=1.3.0 in /usr/local/lib/python3.11/dist-packages (from stanza) (2.6.0+cu124)\n",
            "Requirement already satisfied: tqdm in /usr/local/lib/python3.11/dist-packages (from stanza) (4.67.1)\n",
            "Requirement already satisfied: filelock in /usr/local/lib/python3.11/dist-packages (from torch>=1.3.0->stanza) (3.18.0)\n",
            "Requirement already satisfied: typing-extensions>=4.10.0 in /usr/local/lib/python3.11/dist-packages (from torch>=1.3.0->stanza) (4.13.2)\n",
            "Requirement already satisfied: jinja2 in /usr/local/lib/python3.11/dist-packages (from torch>=1.3.0->stanza) (3.1.6)\n",
            "Requirement already satisfied: fsspec in /usr/local/lib/python3.11/dist-packages (from torch>=1.3.0->stanza) (2025.3.2)\n",
            "Collecting nvidia-cuda-nvrtc-cu12==12.4.127 (from torch>=1.3.0->stanza)\n",
            "  Downloading nvidia_cuda_nvrtc_cu12-12.4.127-py3-none-manylinux2014_x86_64.whl.metadata (1.5 kB)\n",
            "Collecting nvidia-cuda-runtime-cu12==12.4.127 (from torch>=1.3.0->stanza)\n",
            "  Downloading nvidia_cuda_runtime_cu12-12.4.127-py3-none-manylinux2014_x86_64.whl.metadata (1.5 kB)\n",
            "Collecting nvidia-cuda-cupti-cu12==12.4.127 (from torch>=1.3.0->stanza)\n",
            "  Downloading nvidia_cuda_cupti_cu12-12.4.127-py3-none-manylinux2014_x86_64.whl.metadata (1.6 kB)\n",
            "Collecting nvidia-cudnn-cu12==9.1.0.70 (from torch>=1.3.0->stanza)\n",
            "  Downloading nvidia_cudnn_cu12-9.1.0.70-py3-none-manylinux2014_x86_64.whl.metadata (1.6 kB)\n",
            "Collecting nvidia-cublas-cu12==12.4.5.8 (from torch>=1.3.0->stanza)\n",
            "  Downloading nvidia_cublas_cu12-12.4.5.8-py3-none-manylinux2014_x86_64.whl.metadata (1.5 kB)\n",
            "Collecting nvidia-cufft-cu12==11.2.1.3 (from torch>=1.3.0->stanza)\n",
            "  Downloading nvidia_cufft_cu12-11.2.1.3-py3-none-manylinux2014_x86_64.whl.metadata (1.5 kB)\n",
            "Collecting nvidia-curand-cu12==10.3.5.147 (from torch>=1.3.0->stanza)\n",
            "  Downloading nvidia_curand_cu12-10.3.5.147-py3-none-manylinux2014_x86_64.whl.metadata (1.5 kB)\n",
            "Collecting nvidia-cusolver-cu12==11.6.1.9 (from torch>=1.3.0->stanza)\n",
            "  Downloading nvidia_cusolver_cu12-11.6.1.9-py3-none-manylinux2014_x86_64.whl.metadata (1.6 kB)\n",
            "Collecting nvidia-cusparse-cu12==12.3.1.170 (from torch>=1.3.0->stanza)\n",
            "  Downloading nvidia_cusparse_cu12-12.3.1.170-py3-none-manylinux2014_x86_64.whl.metadata (1.6 kB)\n",
            "Requirement already satisfied: nvidia-cusparselt-cu12==0.6.2 in /usr/local/lib/python3.11/dist-packages (from torch>=1.3.0->stanza) (0.6.2)\n",
            "Requirement already satisfied: nvidia-nccl-cu12==2.21.5 in /usr/local/lib/python3.11/dist-packages (from torch>=1.3.0->stanza) (2.21.5)\n",
            "Requirement already satisfied: nvidia-nvtx-cu12==12.4.127 in /usr/local/lib/python3.11/dist-packages (from torch>=1.3.0->stanza) (12.4.127)\n",
            "Collecting nvidia-nvjitlink-cu12==12.4.127 (from torch>=1.3.0->stanza)\n",
            "  Downloading nvidia_nvjitlink_cu12-12.4.127-py3-none-manylinux2014_x86_64.whl.metadata (1.5 kB)\n",
            "Requirement already satisfied: triton==3.2.0 in /usr/local/lib/python3.11/dist-packages (from torch>=1.3.0->stanza) (3.2.0)\n",
            "Requirement already satisfied: sympy==1.13.1 in /usr/local/lib/python3.11/dist-packages (from torch>=1.3.0->stanza) (1.13.1)\n",
            "Requirement already satisfied: mpmath<1.4,>=1.1.0 in /usr/local/lib/python3.11/dist-packages (from sympy==1.13.1->torch>=1.3.0->stanza) (1.3.0)\n",
            "Requirement already satisfied: charset-normalizer<4,>=2 in /usr/local/lib/python3.11/dist-packages (from requests->stanza) (3.4.1)\n",
            "Requirement already satisfied: idna<4,>=2.5 in /usr/local/lib/python3.11/dist-packages (from requests->stanza) (3.10)\n",
            "Requirement already satisfied: urllib3<3,>=1.21.1 in /usr/local/lib/python3.11/dist-packages (from requests->stanza) (2.4.0)\n",
            "Requirement already satisfied: certifi>=2017.4.17 in /usr/local/lib/python3.11/dist-packages (from requests->stanza) (2025.1.31)\n",
            "Requirement already satisfied: MarkupSafe>=2.0 in /usr/local/lib/python3.11/dist-packages (from jinja2->torch>=1.3.0->stanza) (3.0.2)\n",
            "Downloading stanza-1.10.1-py3-none-any.whl (1.1 MB)\n",
            "\u001b[2K   \u001b[90m━━━━━━━━━━━━━━━━━━━━━━━━━━━━━━━━━━━━━━━━\u001b[0m \u001b[32m1.1/1.1 MB\u001b[0m \u001b[31m26.7 MB/s\u001b[0m eta \u001b[36m0:00:00\u001b[0m\n",
            "\u001b[?25hDownloading nvidia_cublas_cu12-12.4.5.8-py3-none-manylinux2014_x86_64.whl (363.4 MB)\n",
            "\u001b[2K   \u001b[90m━━━━━━━━━━━━━━━━━━━━━━━━━━━━━━━━━━━━━━━━\u001b[0m \u001b[32m363.4/363.4 MB\u001b[0m \u001b[31m4.3 MB/s\u001b[0m eta \u001b[36m0:00:00\u001b[0m\n",
            "\u001b[?25hDownloading nvidia_cuda_cupti_cu12-12.4.127-py3-none-manylinux2014_x86_64.whl (13.8 MB)\n",
            "\u001b[2K   \u001b[90m━━━━━━━━━━━━━━━━━━━━━━━━━━━━━━━━━━━━━━━━\u001b[0m \u001b[32m13.8/13.8 MB\u001b[0m \u001b[31m110.4 MB/s\u001b[0m eta \u001b[36m0:00:00\u001b[0m\n",
            "\u001b[?25hDownloading nvidia_cuda_nvrtc_cu12-12.4.127-py3-none-manylinux2014_x86_64.whl (24.6 MB)\n",
            "\u001b[2K   \u001b[90m━━━━━━━━━━━━━━━━━━━━━━━━━━━━━━━━━━━━━━━━\u001b[0m \u001b[32m24.6/24.6 MB\u001b[0m \u001b[31m82.5 MB/s\u001b[0m eta \u001b[36m0:00:00\u001b[0m\n",
            "\u001b[?25hDownloading nvidia_cuda_runtime_cu12-12.4.127-py3-none-manylinux2014_x86_64.whl (883 kB)\n",
            "\u001b[2K   \u001b[90m━━━━━━━━━━━━━━━━━━━━━━━━━━━━━━━━━━━━━━━━\u001b[0m \u001b[32m883.7/883.7 kB\u001b[0m \u001b[31m49.2 MB/s\u001b[0m eta \u001b[36m0:00:00\u001b[0m\n",
            "\u001b[?25hDownloading nvidia_cudnn_cu12-9.1.0.70-py3-none-manylinux2014_x86_64.whl (664.8 MB)\n",
            "\u001b[2K   \u001b[90m━━━━━━━━━━━━━━━━━━━━━━━━━━━━━━━━━━━━━━━━\u001b[0m \u001b[32m664.8/664.8 MB\u001b[0m \u001b[31m2.6 MB/s\u001b[0m eta \u001b[36m0:00:00\u001b[0m\n",
            "\u001b[?25hDownloading nvidia_cufft_cu12-11.2.1.3-py3-none-manylinux2014_x86_64.whl (211.5 MB)\n",
            "\u001b[2K   \u001b[90m━━━━━━━━━━━━━━━━━━━━━━━━━━━━━━━━━━━━━━━━\u001b[0m \u001b[32m211.5/211.5 MB\u001b[0m \u001b[31m5.8 MB/s\u001b[0m eta \u001b[36m0:00:00\u001b[0m\n",
            "\u001b[?25hDownloading nvidia_curand_cu12-10.3.5.147-py3-none-manylinux2014_x86_64.whl (56.3 MB)\n",
            "\u001b[2K   \u001b[90m━━━━━━━━━━━━━━━━━━━━━━━━━━━━━━━━━━━━━━━━\u001b[0m \u001b[32m56.3/56.3 MB\u001b[0m \u001b[31m12.1 MB/s\u001b[0m eta \u001b[36m0:00:00\u001b[0m\n",
            "\u001b[?25hDownloading nvidia_cusolver_cu12-11.6.1.9-py3-none-manylinux2014_x86_64.whl (127.9 MB)\n",
            "\u001b[2K   \u001b[90m━━━━━━━━━━━━━━━━━━━━━━━━━━━━━━━━━━━━━━━━\u001b[0m \u001b[32m127.9/127.9 MB\u001b[0m \u001b[31m7.3 MB/s\u001b[0m eta \u001b[36m0:00:00\u001b[0m\n",
            "\u001b[?25hDownloading nvidia_cusparse_cu12-12.3.1.170-py3-none-manylinux2014_x86_64.whl (207.5 MB)\n",
            "\u001b[2K   \u001b[90m━━━━━━━━━━━━━━━━━━━━━━━━━━━━━━━━━━━━━━━━\u001b[0m \u001b[32m207.5/207.5 MB\u001b[0m \u001b[31m5.7 MB/s\u001b[0m eta \u001b[36m0:00:00\u001b[0m\n",
            "\u001b[?25hDownloading nvidia_nvjitlink_cu12-12.4.127-py3-none-manylinux2014_x86_64.whl (21.1 MB)\n",
            "\u001b[2K   \u001b[90m━━━━━━━━━━━━━━━━━━━━━━━━━━━━━━━━━━━━━━━━\u001b[0m \u001b[32m21.1/21.1 MB\u001b[0m \u001b[31m59.6 MB/s\u001b[0m eta \u001b[36m0:00:00\u001b[0m\n",
            "\u001b[?25hDownloading emoji-2.14.1-py3-none-any.whl (590 kB)\n",
            "\u001b[2K   \u001b[90m━━━━━━━━━━━━━━━━━━━━━━━━━━━━━━━━━━━━━━━━\u001b[0m \u001b[32m590.6/590.6 kB\u001b[0m \u001b[31m36.2 MB/s\u001b[0m eta \u001b[36m0:00:00\u001b[0m\n",
            "\u001b[?25hInstalling collected packages: nvidia-nvjitlink-cu12, nvidia-curand-cu12, nvidia-cufft-cu12, nvidia-cuda-runtime-cu12, nvidia-cuda-nvrtc-cu12, nvidia-cuda-cupti-cu12, nvidia-cublas-cu12, emoji, nvidia-cusparse-cu12, nvidia-cudnn-cu12, nvidia-cusolver-cu12, stanza\n",
            "  Attempting uninstall: nvidia-nvjitlink-cu12\n",
            "    Found existing installation: nvidia-nvjitlink-cu12 12.5.82\n",
            "    Uninstalling nvidia-nvjitlink-cu12-12.5.82:\n",
            "      Successfully uninstalled nvidia-nvjitlink-cu12-12.5.82\n",
            "  Attempting uninstall: nvidia-curand-cu12\n",
            "    Found existing installation: nvidia-curand-cu12 10.3.6.82\n",
            "    Uninstalling nvidia-curand-cu12-10.3.6.82:\n",
            "      Successfully uninstalled nvidia-curand-cu12-10.3.6.82\n",
            "  Attempting uninstall: nvidia-cufft-cu12\n",
            "    Found existing installation: nvidia-cufft-cu12 11.2.3.61\n",
            "    Uninstalling nvidia-cufft-cu12-11.2.3.61:\n",
            "      Successfully uninstalled nvidia-cufft-cu12-11.2.3.61\n",
            "  Attempting uninstall: nvidia-cuda-runtime-cu12\n",
            "    Found existing installation: nvidia-cuda-runtime-cu12 12.5.82\n",
            "    Uninstalling nvidia-cuda-runtime-cu12-12.5.82:\n",
            "      Successfully uninstalled nvidia-cuda-runtime-cu12-12.5.82\n",
            "  Attempting uninstall: nvidia-cuda-nvrtc-cu12\n",
            "    Found existing installation: nvidia-cuda-nvrtc-cu12 12.5.82\n",
            "    Uninstalling nvidia-cuda-nvrtc-cu12-12.5.82:\n",
            "      Successfully uninstalled nvidia-cuda-nvrtc-cu12-12.5.82\n",
            "  Attempting uninstall: nvidia-cuda-cupti-cu12\n",
            "    Found existing installation: nvidia-cuda-cupti-cu12 12.5.82\n",
            "    Uninstalling nvidia-cuda-cupti-cu12-12.5.82:\n",
            "      Successfully uninstalled nvidia-cuda-cupti-cu12-12.5.82\n",
            "  Attempting uninstall: nvidia-cublas-cu12\n",
            "    Found existing installation: nvidia-cublas-cu12 12.5.3.2\n",
            "    Uninstalling nvidia-cublas-cu12-12.5.3.2:\n",
            "      Successfully uninstalled nvidia-cublas-cu12-12.5.3.2\n",
            "  Attempting uninstall: nvidia-cusparse-cu12\n",
            "    Found existing installation: nvidia-cusparse-cu12 12.5.1.3\n",
            "    Uninstalling nvidia-cusparse-cu12-12.5.1.3:\n",
            "      Successfully uninstalled nvidia-cusparse-cu12-12.5.1.3\n",
            "  Attempting uninstall: nvidia-cudnn-cu12\n",
            "    Found existing installation: nvidia-cudnn-cu12 9.3.0.75\n",
            "    Uninstalling nvidia-cudnn-cu12-9.3.0.75:\n",
            "      Successfully uninstalled nvidia-cudnn-cu12-9.3.0.75\n",
            "  Attempting uninstall: nvidia-cusolver-cu12\n",
            "    Found existing installation: nvidia-cusolver-cu12 11.6.3.83\n",
            "    Uninstalling nvidia-cusolver-cu12-11.6.3.83:\n",
            "      Successfully uninstalled nvidia-cusolver-cu12-11.6.3.83\n",
            "Successfully installed emoji-2.14.1 nvidia-cublas-cu12-12.4.5.8 nvidia-cuda-cupti-cu12-12.4.127 nvidia-cuda-nvrtc-cu12-12.4.127 nvidia-cuda-runtime-cu12-12.4.127 nvidia-cudnn-cu12-9.1.0.70 nvidia-cufft-cu12-11.2.1.3 nvidia-curand-cu12-10.3.5.147 nvidia-cusolver-cu12-11.6.1.9 nvidia-cusparse-cu12-12.3.1.170 nvidia-nvjitlink-cu12-12.4.127 stanza-1.10.1\n"
          ]
        }
      ]
    },
    {
      "cell_type": "code",
      "source": [
        "import stanza"
      ],
      "metadata": {
        "id": "Sgqzaf4Kj_-f"
      },
      "execution_count": 6,
      "outputs": []
    },
    {
      "cell_type": "code",
      "source": [
        "stanza.download('zh')"
      ],
      "metadata": {
        "colab": {
          "base_uri": "https://localhost:8080/",
          "height": 168,
          "referenced_widgets": [
            "85304b6bb2ab4d668c04b252aad7f333",
            "3baf9060b55b4806b3430d88283a3bc8",
            "9f2ad262b54b48b180a59241ceb46e73",
            "e94e650c2e9141988e1b4f0a3b5c23c7",
            "4e142e7deae344bdbcf43e52d4a9b404",
            "d56b1c5b0f0f4505975ba689252ffa84",
            "d56dbf74b78441a38010b49902d66ee4",
            "e1d547fc8f72458fa2cc40df0b27175b",
            "c2e3a707133f472182bcf14ca59b4462",
            "b5b997c6581448d592643dde7af93aec",
            "53da0c6feeaf434b9d29dc7b1d1cface",
            "57273601f5c24a04b48c99c0cb2f663f",
            "4ef30dcb8cd04d119adbf0e41379bf1c",
            "69941783b9334dd287025ff7694c0904",
            "9f6665446b044640badbc8f457b072ef",
            "79d3edb76069437dbc9e22fdc7492fea",
            "4c40654a963f432f87429f1295e8ff22",
            "c7af62b8cf1c49fca044c26bdb597a91",
            "69c5694759594f238a373d570932f8c8",
            "f1df570cc9dd4266bc09a47736442ab7",
            "d1c0c0ef1d564b1cbd33efbf32353e08",
            "09a1beabd33943558514d855e5b9f047"
          ]
        },
        "id": "UQsLPtPej5_W",
        "outputId": "ad56086e-23fc-412b-f377-283be37be559"
      },
      "execution_count": 7,
      "outputs": [
        {
          "output_type": "display_data",
          "data": {
            "text/plain": [
              "Downloading https://raw.githubusercontent.com/stanfordnlp/stanza-resources/main/resources_1.10.0.json:   0%|  …"
            ],
            "application/vnd.jupyter.widget-view+json": {
              "version_major": 2,
              "version_minor": 0,
              "model_id": "85304b6bb2ab4d668c04b252aad7f333"
            }
          },
          "metadata": {}
        },
        {
          "output_type": "stream",
          "name": "stderr",
          "text": [
            "INFO:stanza:Downloaded file to /root/stanza_resources/resources.json\n",
            "INFO:stanza:\"zh\" is an alias for \"zh-hans\"\n",
            "INFO:stanza:Downloading default packages for language: zh-hans (Simplified_Chinese) ...\n"
          ]
        },
        {
          "output_type": "display_data",
          "data": {
            "text/plain": [
              "Downloading https://huggingface.co/stanfordnlp/stanza-zh-hans/resolve/v1.10.0/models/default.zip:   0%|       …"
            ],
            "application/vnd.jupyter.widget-view+json": {
              "version_major": 2,
              "version_minor": 0,
              "model_id": "57273601f5c24a04b48c99c0cb2f663f"
            }
          },
          "metadata": {}
        },
        {
          "output_type": "stream",
          "name": "stderr",
          "text": [
            "INFO:stanza:Downloaded file to /root/stanza_resources/zh-hans/default.zip\n",
            "INFO:stanza:Finished downloading models and saved to /root/stanza_resources\n"
          ]
        }
      ]
    },
    {
      "cell_type": "code",
      "source": [
        "nlp = stanza.Pipeline('zh')"
      ],
      "metadata": {
        "colab": {
          "base_uri": "https://localhost:8080/",
          "height": 503,
          "referenced_widgets": [
            "886dd043e16c499aa4fca7953eab0f3c",
            "fb079592f1954b9c953df45b704d6ee6",
            "b28cea9794614e8c973034abf7c0563a",
            "bf3a629f35a1439a8645c65dad276635",
            "74b0daf3f61e4f7cb77504598774a14a",
            "d5ea58b0283849a28ac2fc662b439279",
            "0eb224fb870341aaa782eddac57d5845",
            "86787d91f0a242338790fd0a2c369fdf",
            "2cf65a77405d4b1dbd67b1c50f36ec4d",
            "037546a1fbd6463f865d3df53afdd7ad",
            "b07dc59321f74bc298f651a1d4cf80d7"
          ]
        },
        "id": "1K7c108Oj5lB",
        "outputId": "7908b640-6971-4196-cb38-1089ae2967ea"
      },
      "execution_count": 8,
      "outputs": [
        {
          "output_type": "stream",
          "name": "stderr",
          "text": [
            "INFO:stanza:Checking for updates to resources.json in case models have been updated.  Note: this behavior can be turned off with download_method=None or download_method=DownloadMethod.REUSE_RESOURCES\n"
          ]
        },
        {
          "output_type": "display_data",
          "data": {
            "text/plain": [
              "Downloading https://raw.githubusercontent.com/stanfordnlp/stanza-resources/main/resources_1.10.0.json:   0%|  …"
            ],
            "application/vnd.jupyter.widget-view+json": {
              "version_major": 2,
              "version_minor": 0,
              "model_id": "886dd043e16c499aa4fca7953eab0f3c"
            }
          },
          "metadata": {}
        },
        {
          "output_type": "stream",
          "name": "stderr",
          "text": [
            "INFO:stanza:Downloaded file to /root/stanza_resources/resources.json\n",
            "INFO:stanza:\"zh\" is an alias for \"zh-hans\"\n",
            "INFO:stanza:Loading these models for language: zh-hans (Simplified_Chinese):\n",
            "===================================\n",
            "| Processor    | Package          |\n",
            "-----------------------------------\n",
            "| tokenize     | gsdsimp          |\n",
            "| pos          | gsdsimp_charlm   |\n",
            "| lemma        | gsdsimp_nocharlm |\n",
            "| constituency | ctb-51_charlm    |\n",
            "| depparse     | gsdsimp_charlm   |\n",
            "| sentiment    | ren_charlm       |\n",
            "| ner          | ontonotes        |\n",
            "===================================\n",
            "\n",
            "INFO:stanza:Using device: cpu\n",
            "INFO:stanza:Loading: tokenize\n",
            "INFO:stanza:Loading: pos\n",
            "INFO:stanza:Loading: lemma\n",
            "INFO:stanza:Loading: constituency\n",
            "INFO:stanza:Loading: depparse\n",
            "INFO:stanza:Loading: sentiment\n",
            "INFO:stanza:Loading: ner\n",
            "INFO:stanza:Done loading processors!\n"
          ]
        }
      ]
    },
    {
      "cell_type": "code",
      "source": [
        "# 把所有內容欄位的文字合併成一整段\n",
        "text = ' '.join(dicts['故事'].tolist())\n",
        "print(text)"
      ],
      "metadata": {
        "colab": {
          "base_uri": "https://localhost:8080/"
        },
        "id": "KTR0oVZL0gZ-",
        "outputId": "5fb22d01-70bf-4a98-e157-5045bc4986cf"
      },
      "execution_count": 9,
      "outputs": [
        {
          "output_type": "stream",
          "name": "stdout",
          "text": [
            "星期天下午，小美帶著她的黃色風箏來到河堤公園。太陽暖暖地照在草地上，微風輕輕地吹著，正是放風箏的好時候。小美跑了幾步，把風箏高高拋向天空。風箏像一隻自由的鳥兒，在藍色的天空中飛舞。忽然，一隻好奇的小貓跑過來，試圖抓住飄在空中的風箏線。小美一邊笑，一邊輕輕地拉住風箏，不讓小貓纏住。旁邊的孩子們看見了，也紛紛拿出自己的風箏，天空一下子變得熱鬧起來。有紅色的魚、有綠色的龍，還有五彩繽紛的蝴蝶。傍晚時分，夕陽把整片天空染成了金黃色，小美帶著滿滿的笑容和一身草地的香氣，慢慢走回家。\n"
          ]
        }
      ]
    },
    {
      "cell_type": "code",
      "source": [
        "doc = nlp(text)"
      ],
      "metadata": {
        "id": "-jtd9XGzkSAC"
      },
      "execution_count": 11,
      "outputs": []
    },
    {
      "cell_type": "code",
      "source": [
        "# 斷字結果\n",
        "print(\"【斷字結果】\")\n",
        "for sentence in doc.sentences:\n",
        "    for token in sentence.tokens:\n",
        "        print(token.text)\n"
      ],
      "metadata": {
        "colab": {
          "base_uri": "https://localhost:8080/"
        },
        "id": "rHDY_-A3lW4k",
        "outputId": "0f94ed32-8dd2-4583-9997-67f7f22d26af"
      },
      "execution_count": 12,
      "outputs": [
        {
          "output_type": "stream",
          "name": "stdout",
          "text": [
            "【斷字結果】\n",
            "星期\n",
            "天\n",
            "下午\n",
            "，\n",
            "小\n",
            "美\n",
            "帶\n",
            "著\n",
            "她\n",
            "的\n",
            "黃色\n",
            "風\n",
            "箏\n",
            "來\n",
            "到\n",
            "河堤\n",
            "公園\n",
            "。\n",
            "太陽\n",
            "暖暖\n",
            "地照\n",
            "在\n",
            "草地\n",
            "上\n",
            "，\n",
            "微風\n",
            "輕\n",
            "輕\n",
            "地\n",
            "吹著\n",
            "，\n",
            "正是\n",
            "放風\n",
            "箏\n",
            "的\n",
            "好\n",
            "時候\n",
            "。\n",
            "小\n",
            "美跑\n",
            "了\n",
            "幾\n",
            "步\n",
            "，\n",
            "把\n",
            "風\n",
            "箏\n",
            "高\n",
            "高拋\n",
            "向\n",
            "天空\n",
            "。\n",
            "風\n",
            "箏\n",
            "像\n",
            "一\n",
            "隻\n",
            "自由\n",
            "的\n",
            "鳥兒\n",
            "，\n",
            "在\n",
            "藍色\n",
            "的\n",
            "天空\n",
            "中\n",
            "飛舞\n",
            "。\n",
            "忽然\n",
            "，\n",
            "一\n",
            "隻\n",
            "好奇\n",
            "的\n",
            "小貓\n",
            "跑過\n",
            "來\n",
            "，\n",
            "試\n",
            "圖\n",
            "抓住\n",
            "飄\n",
            "在\n",
            "空中\n",
            "的\n",
            "風箏\n",
            "線\n",
            "。\n",
            "小\n",
            "美\n",
            "一\n",
            "邊\n",
            "笑\n",
            "，\n",
            "一\n",
            "邊\n",
            "輕\n",
            "輕\n",
            "地\n",
            "拉\n",
            "住\n",
            "風\n",
            "箏\n",
            "，\n",
            "不\n",
            "讓\n",
            "小貓\n",
            "纏住\n",
            "。\n",
            "旁邊\n",
            "的\n",
            "孩子\n",
            "們\n",
            "看見\n",
            "了\n",
            "，\n",
            "也\n",
            "紛\n",
            "紛拿出\n",
            "自己\n",
            "的\n",
            "風箏\n",
            "，\n",
            "天空\n",
            "一\n",
            "下\n",
            "子\n",
            "變\n",
            "得\n",
            "熱\n",
            "鬧\n",
            "起\n",
            "來\n",
            "。\n",
            "有\n",
            "紅色\n",
            "的\n",
            "魚\n",
            "、\n",
            "有\n",
            "綠色\n",
            "的\n",
            "龍\n",
            "，\n",
            "還\n",
            "有\n",
            "五\n",
            "彩\n",
            "繽紛\n",
            "的\n",
            "蝴蝶\n",
            "。\n",
            "傍晚\n",
            "時分\n",
            "，\n",
            "夕陽\n",
            "把\n",
            "整片\n",
            "天空\n",
            "染成\n",
            "了\n",
            "金黃\n",
            "色\n",
            "，\n",
            "小\n",
            "美\n",
            "帶\n",
            "著滿\n",
            "滿\n",
            "的\n",
            "笑容\n",
            "和\n",
            "一身\n",
            "草地\n",
            "的\n",
            "香氣\n",
            "，\n",
            "慢慢\n",
            "走\n",
            "回家\n",
            "。\n"
          ]
        }
      ]
    },
    {
      "cell_type": "markdown",
      "source": [
        "**我不是只做NER斷字，還用詞性標註（POS tagging）把句子裡的形容詞、動詞、名詞找出來。**"
      ],
      "metadata": {
        "id": "zAuFLN3QsQ5W"
      }
    },
    {
      "cell_type": "code",
      "source": [
        "# 輸出詞性標註結果\n",
        "print(\"【詞性標註結果】\")\n",
        "for sentence in doc.sentences:\n",
        "    for word in sentence.words:\n",
        "        if word.upos in ['NOUN', 'PROPN', 'VERB', 'ADJ']:\n",
        "            print(f\"字詞：{word.text} ｜ 詞性：{word.upos}\")"
      ],
      "metadata": {
        "colab": {
          "base_uri": "https://localhost:8080/"
        },
        "id": "tGt97-vwlZJp",
        "outputId": "06549bd5-790d-4c95-e82a-1276c2e7e3d9"
      },
      "execution_count": 15,
      "outputs": [
        {
          "output_type": "stream",
          "name": "stdout",
          "text": [
            "【詞性標註結果】\n",
            "字詞：星期 ｜ 詞性：NOUN\n",
            "字詞：下午 ｜ 詞性：NOUN\n",
            "字詞：美 ｜ 詞性：PROPN\n",
            "字詞：帶 ｜ 詞性：VERB\n",
            "字詞：黃色 ｜ 詞性：NOUN\n",
            "字詞：來 ｜ 詞性：VERB\n",
            "字詞：到 ｜ 詞性：VERB\n",
            "字詞：河堤 ｜ 詞性：NOUN\n",
            "字詞：公園 ｜ 詞性：NOUN\n",
            "字詞：太陽 ｜ 詞性：PROPN\n",
            "字詞：暖暖 ｜ 詞性：NOUN\n",
            "字詞：地照 ｜ 詞性：NOUN\n",
            "字詞：在 ｜ 詞性：VERB\n",
            "字詞：草地 ｜ 詞性：NOUN\n",
            "字詞：上 ｜ 詞性：NOUN\n",
            "字詞：微風 ｜ 詞性：NOUN\n",
            "字詞：輕 ｜ 詞性：ADJ\n",
            "字詞：輕 ｜ 詞性：ADJ\n",
            "字詞：吹著 ｜ 詞性：VERB\n",
            "字詞：放風 ｜ 詞性：VERB\n",
            "字詞：時候 ｜ 詞性：NOUN\n",
            "字詞：美跑 ｜ 詞性：VERB\n",
            "字詞：步 ｜ 詞性：NOUN\n",
            "字詞：風 ｜ 詞性：PROPN\n",
            "字詞：箏 ｜ 詞性：PROPN\n",
            "字詞：高 ｜ 詞性：ADJ\n",
            "字詞：高拋 ｜ 詞性：VERB\n",
            "字詞：天空 ｜ 詞性：NOUN\n",
            "字詞：風 ｜ 詞性：PROPN\n",
            "字詞：像 ｜ 詞性：VERB\n",
            "字詞：隻 ｜ 詞性：NOUN\n",
            "字詞：自由 ｜ 詞性：ADJ\n",
            "字詞：鳥兒 ｜ 詞性：NOUN\n",
            "字詞：在 ｜ 詞性：VERB\n",
            "字詞：藍色 ｜ 詞性：PROPN\n",
            "字詞：天空 ｜ 詞性：NOUN\n",
            "字詞：中 ｜ 詞性：NOUN\n",
            "字詞：飛舞 ｜ 詞性：VERB\n",
            "字詞：隻 ｜ 詞性：NOUN\n",
            "字詞：好奇 ｜ 詞性：ADJ\n",
            "字詞：小貓 ｜ 詞性：NOUN\n",
            "字詞：跑過 ｜ 詞性：VERB\n",
            "字詞：試 ｜ 詞性：VERB\n",
            "字詞：圖 ｜ 詞性：PROPN\n",
            "字詞：抓住 ｜ 詞性：VERB\n",
            "字詞：飄 ｜ 詞性：VERB\n",
            "字詞：在 ｜ 詞性：VERB\n",
            "字詞：空中 ｜ 詞性：NOUN\n",
            "字詞：風箏 ｜ 詞性：NOUN\n",
            "字詞：美 ｜ 詞性：PROPN\n",
            "字詞：邊 ｜ 詞性：NOUN\n",
            "字詞：笑 ｜ 詞性：VERB\n",
            "字詞：邊 ｜ 詞性：NOUN\n",
            "字詞：輕 ｜ 詞性：ADJ\n",
            "字詞：拉 ｜ 詞性：VERB\n",
            "字詞：住 ｜ 詞性：VERB\n",
            "字詞：風 ｜ 詞性：PROPN\n",
            "字詞：箏 ｜ 詞性：PROPN\n",
            "字詞：讓 ｜ 詞性：VERB\n",
            "字詞：小貓 ｜ 詞性：NOUN\n",
            "字詞：纏住 ｜ 詞性：VERB\n",
            "字詞：旁邊 ｜ 詞性：NOUN\n",
            "字詞：孩子 ｜ 詞性：NOUN\n",
            "字詞：看見 ｜ 詞性：VERB\n",
            "字詞：紛拿出 ｜ 詞性：VERB\n",
            "字詞：風箏 ｜ 詞性：NOUN\n",
            "字詞：天空 ｜ 詞性：NOUN\n",
            "字詞：下 ｜ 詞性：NOUN\n",
            "字詞：子 ｜ 詞性：NOUN\n",
            "字詞：變 ｜ 詞性：VERB\n",
            "字詞：熱 ｜ 詞性：ADJ\n",
            "字詞：鬧 ｜ 詞性：VERB\n",
            "字詞：起 ｜ 詞性：VERB\n",
            "字詞：來 ｜ 詞性：VERB\n",
            "字詞：有 ｜ 詞性：VERB\n",
            "字詞：紅色 ｜ 詞性：NOUN\n",
            "字詞：魚 ｜ 詞性：NOUN\n",
            "字詞：有 ｜ 詞性：VERB\n",
            "字詞：綠色 ｜ 詞性：NOUN\n",
            "字詞：龍 ｜ 詞性：NOUN\n",
            "字詞：有 ｜ 詞性：VERB\n",
            "字詞：彩 ｜ 詞性：NOUN\n",
            "字詞：繽紛 ｜ 詞性：ADJ\n",
            "字詞：蝴蝶 ｜ 詞性：NOUN\n",
            "字詞：傍晚 ｜ 詞性：NOUN\n",
            "字詞：夕陽 ｜ 詞性：PROPN\n",
            "字詞：天空 ｜ 詞性：NOUN\n",
            "字詞：染成 ｜ 詞性：VERB\n",
            "字詞：金黃 ｜ 詞性：NOUN\n",
            "字詞：美 ｜ 詞性：PROPN\n",
            "字詞：帶 ｜ 詞性：VERB\n",
            "字詞：滿 ｜ 詞性：ADJ\n",
            "字詞：笑容 ｜ 詞性：NOUN\n",
            "字詞：一身 ｜ 詞性：ADJ\n",
            "字詞：草地 ｜ 詞性：NOUN\n",
            "字詞：香氣 ｜ 詞性：NOUN\n",
            "字詞：走 ｜ 詞性：VERB\n",
            "字詞：回家 ｜ 詞性：VERB\n"
          ]
        }
      ]
    },
    {
      "cell_type": "markdown",
      "source": [
        "**將名詞noun、動詞verb、形容詞adj，做整理統整：**"
      ],
      "metadata": {
        "id": "1x7L_5ddsozO"
      }
    },
    {
      "cell_type": "code",
      "source": [
        "# 建立三個清單\n",
        "nouns = []\n",
        "verbs = []\n",
        "adjs = []\n",
        "\n",
        "# 走訪全部句子和字詞\n",
        "for sentence in doc.sentences:\n",
        "    for word in sentence.words:\n",
        "        if word.upos in ['NOUN', 'PROPN']:  # 名詞（包含普通名詞和專有名詞）\n",
        "            nouns.append(word.text)\n",
        "        elif word.upos == 'VERB':       # 動詞\n",
        "            verbs.append(word.text)\n",
        "        elif word.upos == 'ADJ':        # 形容詞\n",
        "            adjs.append(word.text)\n",
        "\n",
        "# 輸出結果\n",
        "print(\"【名詞】\")\n",
        "print(nouns)\n",
        "print(\"\\n【動詞】\")\n",
        "print(verbs)\n",
        "print(\"\\n【形容詞】\")\n",
        "print(adjs)"
      ],
      "metadata": {
        "colab": {
          "base_uri": "https://localhost:8080/"
        },
        "id": "tZudFrL7m5hO",
        "outputId": "f7c6162e-1b2c-44d6-dce1-3bd4e80d9331"
      },
      "execution_count": 16,
      "outputs": [
        {
          "output_type": "stream",
          "name": "stdout",
          "text": [
            "【名詞】\n",
            "['星期', '下午', '美', '黃色', '河堤', '公園', '太陽', '暖暖', '地照', '草地', '上', '微風', '時候', '步', '風', '箏', '天空', '風', '隻', '鳥兒', '藍色', '天空', '中', '隻', '小貓', '圖', '空中', '風箏', '美', '邊', '邊', '風', '箏', '小貓', '旁邊', '孩子', '風箏', '天空', '下', '子', '紅色', '魚', '綠色', '龍', '彩', '蝴蝶', '傍晚', '夕陽', '天空', '金黃', '美', '笑容', '草地', '香氣']\n",
            "\n",
            "【動詞】\n",
            "['帶', '來', '到', '在', '吹著', '放風', '美跑', '高拋', '像', '在', '飛舞', '跑過', '試', '抓住', '飄', '在', '笑', '拉', '住', '讓', '纏住', '看見', '紛拿出', '變', '鬧', '起', '來', '有', '有', '有', '染成', '帶', '走', '回家']\n",
            "\n",
            "【形容詞】\n",
            "['輕', '輕', '高', '自由', '好奇', '輕', '熱', '繽紛', '滿', '一身']\n"
          ]
        }
      ]
    },
    {
      "cell_type": "markdown",
      "source": [
        "**製作成表格，可看出每個詞性在段落中被運用的次數：**"
      ],
      "metadata": {
        "id": "rvfyW8Rdszmd"
      }
    },
    {
      "cell_type": "code",
      "source": [
        "import matplotlib.pyplot as plt\n",
        "import seaborn as sns\n",
        "from collections import Counter"
      ],
      "metadata": {
        "id": "cgOnb6G2onRn"
      },
      "execution_count": 17,
      "outputs": []
    },
    {
      "cell_type": "code",
      "source": [
        "# 統計頻率\n",
        "noun_count = len(nouns)\n",
        "verb_count = len(verbs)\n",
        "adj_count = len(adjs)\n",
        "\n",
        "# 繪製條形圖\n",
        "plt.figure(figsize=(8, 6))\n",
        "ax = sns.barplot(x=['Noun', 'Verb', 'Adj'], y=[noun_count, verb_count, adj_count], palette=\"Set2\")\n",
        "\n",
        "# 在每個柱子上加數字\n",
        "for i, v in enumerate([noun_count, verb_count, adj_count]):\n",
        "    ax.text(i, v + 0.5, str(v), ha='center', va='bottom', fontsize=12)\n",
        "\n",
        "# 標題和標籤\n",
        "plt.title(\"Frequency distribution of nouns, verbs, and adjectives\", fontsize=16)\n",
        "plt.xlabel(\"Part of Speech\", fontsize=14)\n",
        "plt.ylabel(\"Frequency of Occurrence\", fontsize=14)\n",
        "\n",
        "# 顯示圖形\n",
        "plt.show()"
      ],
      "metadata": {
        "colab": {
          "base_uri": "https://localhost:8080/",
          "height": 678
        },
        "id": "C9XtVWGMon6Q",
        "outputId": "12645c35-76c5-4432-8d0a-15af2400c191"
      },
      "execution_count": 25,
      "outputs": [
        {
          "output_type": "stream",
          "name": "stderr",
          "text": [
            "<ipython-input-25-c4a510b57f79>:8: FutureWarning: \n",
            "\n",
            "Passing `palette` without assigning `hue` is deprecated and will be removed in v0.14.0. Assign the `x` variable to `hue` and set `legend=False` for the same effect.\n",
            "\n",
            "  ax = sns.barplot(x=['Noun', 'Verb', 'Adj'], y=[noun_count, verb_count, adj_count], palette=\"Set2\")\n"
          ]
        },
        {
          "output_type": "display_data",
          "data": {
            "text/plain": [
              "<Figure size 800x600 with 1 Axes>"
            ],
            "image/png": "[encoded data removed]"
          },
          "metadata": {}
        }
      ]
    },
    {
      "cell_type": "markdown",
      "source": [
        "# 說明與反思：\n",
        "* 製作過程很順利，stanza的功能很強大，尤其是詞性標註（POS Tagging），很符合我的作業目標，能夠標出每個詞的詞性（名詞、動詞、形容詞）。\n",
        "* 這個程式非常實際，能快速篩選小故事中的【名詞、動詞、形容詞】。\n",
        "* 我也做了數量統計和圖表，將資料視覺化。\n",
        "* 我想若我的目標群使用這個程式，應該可以很快速得到詞類分析的答案。\n",
        "* 不確定這樣有沒有符合作業要求，因為老師在課中的範本是用chatgpt找ner套件，所以我就在範例中選擇功能強大的stanza來解決我設置的問題。\n",
        "* 如果沒有達到作業要求或缺少步驟，歡迎助教來信通知！我願意調整作業重做或改進。"
      ],
      "metadata": {
        "id": "Q_mMKD63s-H4"
      }
    }
  ]
}